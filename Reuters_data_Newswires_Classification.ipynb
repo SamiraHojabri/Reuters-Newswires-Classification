{
  "nbformat": 4,
  "nbformat_minor": 0,
  "metadata": {
    "colab": {
      "name": "Reuters data-Newswires Classification.ipynb",
      "provenance": [],
      "authorship_tag": "ABX9TyPNGOi8ACdMuZq+GEKukwi+",
      "include_colab_link": true
    },
    "kernelspec": {
      "name": "python3",
      "display_name": "Python 3"
    },
    "language_info": {
      "name": "python"
    }
  },
  "cells": [
    {
      "cell_type": "markdown",
      "metadata": {
        "id": "view-in-github",
        "colab_type": "text"
      },
      "source": [
        "<a href=\"https://colab.research.google.com/github/mahdiehhojabri/Reuters-Newswires-Classification/blob/main/Reuters_data_Newswires_Classification.ipynb\" target=\"_parent\"><img src=\"https://colab.research.google.com/assets/colab-badge.svg\" alt=\"Open In Colab\"/></a>"
      ]
    },
    {
      "cell_type": "code",
      "metadata": {
        "colab": {
          "base_uri": "https://localhost:8080/"
        },
        "id": "NC3aUjBHdNTf",
        "outputId": "49511ed8-f204-4de7-9cb3-274f92fe3354"
      },
      "source": [
        "#Loading data\n",
        "\n",
        "from keras.datasets import reuters\n",
        "(train_data, train_labels), (test_data, test_labels) = reuters.load_data(num_words=10000)"
      ],
      "execution_count": null,
      "outputs": [
        {
          "output_type": "stream",
          "text": [
            "Downloading data from https://storage.googleapis.com/tensorflow/tf-keras-datasets/reuters.npz\n",
            "2113536/2110848 [==============================] - 0s 0us/step\n"
          ],
          "name": "stdout"
        },
        {
          "output_type": "stream",
          "text": [
            "/usr/local/lib/python3.7/dist-packages/tensorflow/python/keras/datasets/reuters.py:148: VisibleDeprecationWarning: Creating an ndarray from ragged nested sequences (which is a list-or-tuple of lists-or-tuples-or ndarrays with different lengths or shapes) is deprecated. If you meant to do this, you must specify 'dtype=object' when creating the ndarray\n",
            "  x_train, y_train = np.array(xs[:idx]), np.array(labels[:idx])\n",
            "/usr/local/lib/python3.7/dist-packages/tensorflow/python/keras/datasets/reuters.py:149: VisibleDeprecationWarning: Creating an ndarray from ragged nested sequences (which is a list-or-tuple of lists-or-tuples-or ndarrays with different lengths or shapes) is deprecated. If you meant to do this, you must specify 'dtype=object' when creating the ndarray\n",
            "  x_test, y_test = np.array(xs[idx:]), np.array(labels[idx:])\n"
          ],
          "name": "stderr"
        }
      ]
    },
    {
      "cell_type": "code",
      "metadata": {
        "id": "uTlxrAg_JRn1"
      },
      "source": [
        "from google.colab import drive\n",
        "drive.mount('/content/drive')"
      ],
      "execution_count": null,
      "outputs": []
    },
    {
      "cell_type": "code",
      "metadata": {
        "colab": {
          "base_uri": "https://localhost:8080/"
        },
        "id": "J65D_2dCgWFv",
        "outputId": "256ba319-a6fd-40ce-c517-f668780705ee"
      },
      "source": [
        "len(train_data)"
      ],
      "execution_count": null,
      "outputs": [
        {
          "output_type": "execute_result",
          "data": {
            "text/plain": [
              "8982"
            ]
          },
          "metadata": {
            "tags": []
          },
          "execution_count": 4
        }
      ]
    },
    {
      "cell_type": "code",
      "metadata": {
        "colab": {
          "base_uri": "https://localhost:8080/"
        },
        "id": "76qZUPk6gcrt",
        "outputId": "faa45c20-05af-4cc7-d200-38091b50d225"
      },
      "source": [
        "len(test_data)"
      ],
      "execution_count": null,
      "outputs": [
        {
          "output_type": "execute_result",
          "data": {
            "text/plain": [
              "2246"
            ]
          },
          "metadata": {
            "tags": []
          },
          "execution_count": 5
        }
      ]
    },
    {
      "cell_type": "code",
      "metadata": {
        "id": "wkdizlJ5e-LO"
      },
      "source": [
        "#preprocessing\n",
        "\n",
        "import numpy as np\n",
        "def vectorize_sequences(sequences, dimension=10000): \n",
        "    results = np.zeros((len(sequences), dimension))\n",
        "    for i, sequence in enumerate(sequences):\n",
        "        results[i, sequence] = 1.\n",
        "    return results\n",
        "    \n",
        "x_train = vectorize_sequences(train_data)\n",
        "x_test = vectorize_sequences(test_data)        "
      ],
      "execution_count": null,
      "outputs": []
    },
    {
      "cell_type": "code",
      "metadata": {
        "colab": {
          "base_uri": "https://localhost:8080/"
        },
        "id": "8WgAi1Q2gomw",
        "outputId": "25535153-adbb-4af6-ad78-21ebee9cac6d"
      },
      "source": [
        "x_train.shape"
      ],
      "execution_count": null,
      "outputs": [
        {
          "output_type": "execute_result",
          "data": {
            "text/plain": [
              "(8982, 10000)"
            ]
          },
          "metadata": {
            "tags": []
          },
          "execution_count": 7
        }
      ]
    },
    {
      "cell_type": "code",
      "metadata": {
        "colab": {
          "base_uri": "https://localhost:8080/"
        },
        "id": "ennK8UuihlEU",
        "outputId": "66815405-1926-40e4-ca0a-86973f8610cf"
      },
      "source": [
        "x_test.shape"
      ],
      "execution_count": null,
      "outputs": [
        {
          "output_type": "execute_result",
          "data": {
            "text/plain": [
              "(2246, 10000)"
            ]
          },
          "metadata": {
            "tags": []
          },
          "execution_count": 8
        }
      ]
    },
    {
      "cell_type": "code",
      "metadata": {
        "id": "0W3JTxwMhpQi"
      },
      "source": [
        "from keras.utils.np_utils import to_categorical\n",
        "\n",
        "one_hot_train_labels = to_categorical(train_labels)\n",
        "one_hot_test_labels = to_categorical(test_labels)"
      ],
      "execution_count": null,
      "outputs": []
    },
    {
      "cell_type": "code",
      "metadata": {
        "id": "OWgk14Clm0Vg"
      },
      "source": [
        "# Network architecture\n",
        "\n",
        "from keras import models\n",
        "from keras import layers\n",
        "\n",
        "model = models.Sequential()\n",
        "model.add(layers.Dense(64, activation='relu', input_shape=(10000,)))\n",
        "model.add(layers.Dense(64, activation='relu'))\n",
        "model.add(layers.Dense(46, activation='softmax'))"
      ],
      "execution_count": null,
      "outputs": []
    },
    {
      "cell_type": "code",
      "metadata": {
        "id": "c_JmzTUUA5If"
      },
      "source": [
        "#Comfiguring learning process\n",
        "\n",
        "model.compile(optimizer='rmsprop',\n",
        "              loss='categorical_crossentropy',\n",
        "              metrics=['accuracy']) "
      ],
      "execution_count": null,
      "outputs": []
    },
    {
      "cell_type": "code",
      "metadata": {
        "colab": {
          "base_uri": "https://localhost:8080/"
        },
        "id": "_DNEf4HiAug7",
        "outputId": "3fa75554-071d-4bbf-8112-c101d8a5236a"
      },
      "source": [
        "#Training\n",
        "\n",
        "x_val = x_train[:1000]\n",
        "partial_x_train = x_train[1000:]\n",
        "y_val = one_hot_train_labels[:1000]\n",
        "partial_y_train = one_hot_train_labels[1000:]\n",
        "\n",
        "history = model.fit(partial_x_train,partial_y_train, epochs=20,batch_size=512, validation_data=(x_val, y_val))"
      ],
      "execution_count": null,
      "outputs": [
        {
          "output_type": "stream",
          "text": [
            "Epoch 1/20\n",
            "16/16 [==============================] - 2s 77ms/step - loss: 3.1187 - accuracy: 0.4019 - val_loss: 1.7497 - val_accuracy: 0.6620\n",
            "Epoch 2/20\n",
            "16/16 [==============================] - 1s 50ms/step - loss: 1.5137 - accuracy: 0.7053 - val_loss: 1.3346 - val_accuracy: 0.7160\n",
            "Epoch 3/20\n",
            "16/16 [==============================] - 1s 48ms/step - loss: 1.0890 - accuracy: 0.7726 - val_loss: 1.1652 - val_accuracy: 0.7390\n",
            "Epoch 4/20\n",
            "16/16 [==============================] - 1s 47ms/step - loss: 0.8472 - accuracy: 0.8250 - val_loss: 1.0755 - val_accuracy: 0.7720\n",
            "Epoch 5/20\n",
            "16/16 [==============================] - 1s 49ms/step - loss: 0.6493 - accuracy: 0.8599 - val_loss: 0.9947 - val_accuracy: 0.8000\n",
            "Epoch 6/20\n",
            "16/16 [==============================] - 1s 48ms/step - loss: 0.5397 - accuracy: 0.8893 - val_loss: 0.9635 - val_accuracy: 0.8000\n",
            "Epoch 7/20\n",
            "16/16 [==============================] - 1s 47ms/step - loss: 0.4307 - accuracy: 0.9106 - val_loss: 0.9273 - val_accuracy: 0.8210\n",
            "Epoch 8/20\n",
            "16/16 [==============================] - 1s 48ms/step - loss: 0.3557 - accuracy: 0.9258 - val_loss: 0.9261 - val_accuracy: 0.8200\n",
            "Epoch 9/20\n",
            "16/16 [==============================] - 1s 48ms/step - loss: 0.2787 - accuracy: 0.9409 - val_loss: 0.9428 - val_accuracy: 0.8150\n",
            "Epoch 10/20\n",
            "16/16 [==============================] - 1s 48ms/step - loss: 0.2469 - accuracy: 0.9465 - val_loss: 0.9453 - val_accuracy: 0.8200\n",
            "Epoch 11/20\n",
            "16/16 [==============================] - 1s 48ms/step - loss: 0.2092 - accuracy: 0.9510 - val_loss: 0.9540 - val_accuracy: 0.8100\n",
            "Epoch 12/20\n",
            "16/16 [==============================] - 1s 48ms/step - loss: 0.1766 - accuracy: 0.9549 - val_loss: 0.9900 - val_accuracy: 0.8020\n",
            "Epoch 13/20\n",
            "16/16 [==============================] - 1s 47ms/step - loss: 0.1526 - accuracy: 0.9563 - val_loss: 0.9770 - val_accuracy: 0.8140\n",
            "Epoch 14/20\n",
            "16/16 [==============================] - 1s 48ms/step - loss: 0.1445 - accuracy: 0.9589 - val_loss: 1.0082 - val_accuracy: 0.8120\n",
            "Epoch 15/20\n",
            "16/16 [==============================] - 1s 47ms/step - loss: 0.1236 - accuracy: 0.9629 - val_loss: 1.0155 - val_accuracy: 0.8200\n",
            "Epoch 16/20\n",
            "16/16 [==============================] - 1s 49ms/step - loss: 0.1202 - accuracy: 0.9634 - val_loss: 1.0298 - val_accuracy: 0.8110\n",
            "Epoch 17/20\n",
            "16/16 [==============================] - 1s 46ms/step - loss: 0.1159 - accuracy: 0.9580 - val_loss: 1.0694 - val_accuracy: 0.8030\n",
            "Epoch 18/20\n",
            "16/16 [==============================] - 1s 46ms/step - loss: 0.1162 - accuracy: 0.9596 - val_loss: 1.1249 - val_accuracy: 0.8040\n",
            "Epoch 19/20\n",
            "16/16 [==============================] - 1s 47ms/step - loss: 0.1040 - accuracy: 0.9633 - val_loss: 1.1015 - val_accuracy: 0.8010\n",
            "Epoch 20/20\n",
            "16/16 [==============================] - 1s 46ms/step - loss: 0.1068 - accuracy: 0.9611 - val_loss: 1.1230 - val_accuracy: 0.8040\n"
          ],
          "name": "stdout"
        }
      ]
    },
    {
      "cell_type": "code",
      "metadata": {
        "colab": {
          "base_uri": "https://localhost:8080/",
          "height": 295
        },
        "id": "O-SGhzPZCzFC",
        "outputId": "6b3d3a41-56ee-4200-e5d6-697f80bbbdda"
      },
      "source": [
        "# Training and Validation loss\n",
        "\n",
        "import matplotlib.pyplot as plt\n",
        "\n",
        "history_dict = history.history\n",
        "loss_values = history_dict['loss']\n",
        "val_loss_values = history_dict['val_loss']\n",
        "\n",
        "epochs = range(1, len(loss_values) + 1)\n",
        "\n",
        "plt.plot(epochs, loss_values, 'bo', label='Training loss')\n",
        "plt.plot(epochs, val_loss_values, 'b', label='Validation loss')\n",
        "plt.title('Training and validation loss')\n",
        "plt.xlabel('Epochs')\n",
        "plt.ylabel('Loss')\n",
        "plt.legend()\n",
        "\n",
        "plt.show()"
      ],
      "execution_count": null,
      "outputs": [
        {
          "output_type": "display_data",
          "data": {
            "image/png": "[encoded data removed]",
            "text/plain": [
              "<Figure size 432x288 with 1 Axes>"
            ]
          },
          "metadata": {
            "tags": [],
            "needs_background": "light"
          }
        }
      ]
    },
    {
      "cell_type": "code",
      "metadata": {
        "colab": {
          "base_uri": "https://localhost:8080/",
          "height": 295
        },
        "id": "KtNR1F8dIotM",
        "outputId": "e5b9888d-e0ff-4d99-f7d6-21284244978a"
      },
      "source": [
        "# Training and Validation accuracy\n",
        "\n",
        "plt.clf()\n",
        "\n",
        "acc_values=history_dict['accuracy']\n",
        "val_acc_values=history_dict['val_accuracy']\n",
        "\n",
        "plt.plot(epochs, acc_values, 'bo', label='Training acc')\n",
        "plt.plot(epochs, val_acc_values, 'b', label='Validation acc')\n",
        "plt.title('Training and Validation accuracy')\n",
        "plt.xlabel('Epochs')\n",
        "plt.ylabel('Accuracy')\n",
        "plt.legend()\n",
        "\n",
        "plt.show()"
      ],
      "execution_count": null,
      "outputs": [
        {
          "output_type": "display_data",
          "data": {
            "image/png": "[encoded data removed]",
            "text/plain": [
              "<Figure size 432x288 with 1 Axes>"
            ]
          },
          "metadata": {
            "tags": [],
            "needs_background": "light"
          }
        }
      ]
    },
    {
      "cell_type": "code",
      "metadata": {
        "colab": {
          "base_uri": "https://localhost:8080/"
        },
        "id": "PV3l6szvI7Jl",
        "outputId": "40d54f18-f48c-4bd7-a2dc-663ebb12aa40"
      },
      "source": [
        "#Retrain\n",
        "\n",
        "model = models.Sequential()\n",
        "model.add(layers.Dense(64, activation='relu', input_shape=(10000,)))\n",
        "model.add(layers.Dense(64, activation='relu'))\n",
        "model.add(layers.Dense(46, activation='softmax'))\n",
        "\n",
        "\n",
        "model.compile(optimizer='rmsprop',\n",
        "              loss='categorical_crossentropy',\n",
        "              metrics=['accuracy']) \n",
        "\n",
        "\n",
        "model.fit(partial_x_train,partial_y_train, epochs = 9, batch_size=512)\n",
        "results = model.evaluate(x_test, one_hot_test_labels)\n",
        "results "
      ],
      "execution_count": null,
      "outputs": [
        {
          "output_type": "stream",
          "text": [
            "Epoch 1/9\n",
            "16/16 [==============================] - 1s 44ms/step - loss: 3.1806 - accuracy: 0.3979\n",
            "Epoch 2/9\n",
            "16/16 [==============================] - 1s 43ms/step - loss: 1.4654 - accuracy: 0.7030\n",
            "Epoch 3/9\n",
            "16/16 [==============================] - 1s 43ms/step - loss: 1.0980 - accuracy: 0.7763\n",
            "Epoch 4/9\n",
            "16/16 [==============================] - 1s 43ms/step - loss: 0.8429 - accuracy: 0.8213\n",
            "Epoch 5/9\n",
            "16/16 [==============================] - 1s 42ms/step - loss: 0.6604 - accuracy: 0.8583\n",
            "Epoch 6/9\n",
            "16/16 [==============================] - 1s 42ms/step - loss: 0.5204 - accuracy: 0.8911\n",
            "Epoch 7/9\n",
            "16/16 [==============================] - 1s 43ms/step - loss: 0.4174 - accuracy: 0.9120\n",
            "Epoch 8/9\n",
            "16/16 [==============================] - 1s 43ms/step - loss: 0.3520 - accuracy: 0.9243\n",
            "Epoch 9/9\n",
            "16/16 [==============================] - 1s 41ms/step - loss: 0.2754 - accuracy: 0.9432\n",
            "71/71 [==============================] - 0s 2ms/step - loss: 0.9541 - accuracy: 0.7934\n"
          ],
          "name": "stdout"
        },
        {
          "output_type": "execute_result",
          "data": {
            "text/plain": [
              "[0.9541206955909729, 0.7934104800224304]"
            ]
          },
          "metadata": {
            "tags": []
          },
          "execution_count": 15
        }
      ]
    },
    {
      "cell_type": "code",
      "metadata": {
        "colab": {
          "base_uri": "https://localhost:8080/"
        },
        "id": "i_M7Z-ja6irv",
        "outputId": "cb4a366e-d4bb-40be-8bc8-b70c07d1a2bb"
      },
      "source": [
        "prediction = model.predict(x_test)\n",
        "prediction"
      ],
      "execution_count": null,
      "outputs": [
        {
          "output_type": "execute_result",
          "data": {
            "text/plain": [
              "array([[6.8573238e-05, 7.0808246e-04, 1.7738765e-05, ..., 4.8079580e-04,\n",
              "        1.6156182e-05, 6.6419079e-06],\n",
              "       [1.7744422e-02, 1.0455608e-01, 9.7114509e-03, ..., 1.5059682e-04,\n",
              "        1.7699753e-06, 1.2471207e-04],\n",
              "       [4.4627627e-03, 5.4878187e-01, 1.6695825e-02, ..., 4.6386784e-03,\n",
              "        1.8388753e-04, 5.1393814e-04],\n",
              "       ...,\n",
              "       [2.0104244e-05, 2.6143412e-04, 2.7054688e-05, ..., 1.0413352e-04,\n",
              "        1.0229982e-04, 3.5707164e-06],\n",
              "       [1.6767139e-03, 1.6868867e-01, 2.6338170e-03, ..., 3.2946144e-03,\n",
              "        2.2442166e-03, 4.9228355e-04],\n",
              "       [3.2030485e-04, 7.2201335e-01, 1.8666742e-02, ..., 6.7314215e-04,\n",
              "        3.4337532e-05, 5.5662444e-05]], dtype=float32)"
            ]
          },
          "metadata": {
            "tags": []
          },
          "execution_count": 16
        }
      ]
    },
    {
      "cell_type": "code",
      "metadata": {
        "colab": {
          "base_uri": "https://localhost:8080/"
        },
        "id": "TkO2JKsNAjZ5",
        "outputId": "dca024cf-85e7-40be-84cf-4a3821d37f0e"
      },
      "source": [
        "prediction[0].shape"
      ],
      "execution_count": null,
      "outputs": [
        {
          "output_type": "execute_result",
          "data": {
            "text/plain": [
              "(46,)"
            ]
          },
          "metadata": {
            "tags": []
          },
          "execution_count": 17
        }
      ]
    },
    {
      "cell_type": "code",
      "metadata": {
        "colab": {
          "base_uri": "https://localhost:8080/"
        },
        "id": "aDZxs7uKBCQZ",
        "outputId": "b06cc3b1-e03c-4de2-c3b9-0be4b9aa0671"
      },
      "source": [
        "np.sum(prediction[0])"
      ],
      "execution_count": null,
      "outputs": [
        {
          "output_type": "execute_result",
          "data": {
            "text/plain": [
              "0.99999976"
            ]
          },
          "metadata": {
            "tags": []
          },
          "execution_count": 18
        }
      ]
    },
    {
      "cell_type": "code",
      "metadata": {
        "colab": {
          "base_uri": "https://localhost:8080/"
        },
        "id": "V0hxMFKfBKji",
        "outputId": "329c260f-9276-4fcd-c8bb-519652347326"
      },
      "source": [
        "np.argmax(prediction[0])"
      ],
      "execution_count": null,
      "outputs": [
        {
          "output_type": "execute_result",
          "data": {
            "text/plain": [
              "3"
            ]
          },
          "metadata": {
            "tags": []
          },
          "execution_count": 19
        }
      ]
    }
  ]
}